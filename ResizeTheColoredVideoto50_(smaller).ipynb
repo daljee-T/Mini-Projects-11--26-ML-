{
  "nbformat": 4,
  "nbformat_minor": 0,
  "metadata": {
    "colab": {
      "provenance": [],
      "authorship_tag": "ABX9TyMdDKyAYz45PeCM7SU4g2bU",
      "include_colab_link": true
    },
    "kernelspec": {
      "name": "python3",
      "display_name": "Python 3"
    },
    "language_info": {
      "name": "python"
    }
  },
  "cells": [
    {
      "cell_type": "markdown",
      "metadata": {
        "id": "view-in-github",
        "colab_type": "text"
      },
      "source": [
        "<a href=\"https://colab.research.google.com/github/daljee-T/Mini-Projects-11--26-ML-/blob/main/ResizeTheColoredVideoto50_(smaller).ipynb\" target=\"_parent\"><img src=\"https://colab.research.google.com/assets/colab-badge.svg\" alt=\"Open In Colab\"/></a>"
      ]
    },
    {
      "cell_type": "code",
      "execution_count": 2,
      "metadata": {
        "colab": {
          "base_uri": "https://localhost:8080/"
        },
        "id": "wbYhegp6X46k",
        "outputId": "e0ce1722-c19d-4e2c-ebad-7f346f0e459e"
      },
      "outputs": [
        {
          "output_type": "stream",
          "name": "stdout",
          "text": [
            "Mounted at /content/drive\n",
            "Colored video resized to 50% and saved to: /content/drive/MyDrive/output_resized_video.mp4\n"
          ]
        }
      ],
      "source": [
        "import cv2\n",
        "from google.colab import drive\n",
        "\n",
        "# Mount Drive\n",
        "drive.mount('/content/drive')\n",
        "\n",
        "# Input and output video paths\n",
        "input_video_path = '/content/drive/MyDrive/input_video.mp4'\n",
        "output_video_path = '/content/drive/MyDrive/output_resized_video.mp4'\n",
        "\n",
        "# Read video\n",
        "cap = cv2.VideoCapture(input_video_path)\n",
        "\n",
        "# Original video properties\n",
        "fourcc = cv2.VideoWriter_fourcc(*'mp4v')\n",
        "fps = int(cap.get(cv2.CAP_PROP_FPS))\n",
        "width = int(cap.get(cv2.CAP_PROP_FRAME_WIDTH))\n",
        "height = int(cap.get(cv2.CAP_PROP_FRAME_HEIGHT))\n",
        "\n",
        "# 50% resized dimensions\n",
        "resized_width = width // 2\n",
        "resized_height = height // 2\n",
        "\n",
        "# Output writer\n",
        "out = cv2.VideoWriter(output_video_path, fourcc, fps, (resized_width, resized_height))\n",
        "\n",
        "while cap.isOpened():\n",
        "    ret, frame = cap.read()\n",
        "    if not ret:\n",
        "        break\n",
        "    resized = cv2.resize(frame, (resized_width, resized_height))\n",
        "    out.write(resized)\n",
        "\n",
        "cap.release()\n",
        "out.release()\n",
        "\n",
        "print(f\"Colored video resized to 50% and saved to: {output_video_path}\")\n"
      ]
    }
  ]
}