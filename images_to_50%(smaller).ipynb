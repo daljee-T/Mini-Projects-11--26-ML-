{
  "nbformat": 4,
  "nbformat_minor": 0,
  "metadata": {
    "colab": {
      "provenance": [],
      "authorship_tag": "ABX9TyPvKAdbputJLCoPNkh43NDW",
      "include_colab_link": true
    },
    "kernelspec": {
      "name": "python3",
      "display_name": "Python 3"
    },
    "language_info": {
      "name": "python"
    }
  },
  "cells": [
    {
      "cell_type": "markdown",
      "metadata": {
        "id": "view-in-github",
        "colab_type": "text"
      },
      "source": [
        "<a href=\"https://colab.research.google.com/github/daljee-T/Mini-Projects-11--26-ML-/blob/main/images_to_50%25(smaller).ipynb\" target=\"_parent\"><img src=\"https://colab.research.google.com/assets/colab-badge.svg\" alt=\"Open In Colab\"/></a>"
      ]
    },
    {
      "cell_type": "code",
      "execution_count": 1,
      "metadata": {
        "colab": {
          "base_uri": "https://localhost:8080/"
        },
        "id": "sRZuj39MVFbf",
        "outputId": "db6168b8-8572-486d-cf5f-e3241564175f"
      },
      "outputs": [
        {
          "output_type": "stream",
          "name": "stdout",
          "text": [
            "Mounted at /content/drive\n"
          ]
        },
        {
          "output_type": "stream",
          "name": "stderr",
          "text": [
            "100%|██████████| 5/5 [00:01<00:00,  3.20it/s]"
          ]
        },
        {
          "output_type": "stream",
          "name": "stdout",
          "text": [
            "\n",
            "✅ Resized 5 images to 50% and saved in '/content/drive/MyDrive/resized_images'\n"
          ]
        },
        {
          "output_type": "stream",
          "name": "stderr",
          "text": [
            "\n"
          ]
        }
      ],
      "source": [
        "import cv2\n",
        "import os\n",
        "from google.colab import drive\n",
        "from tqdm import tqdm\n",
        "\n",
        "# Mount Google Drive\n",
        "drive.mount('/content/drive')\n",
        "\n",
        "# Define paths\n",
        "input_folder = '/content/drive/MyDrive/images_folder'\n",
        "output_folder = '/content/drive/MyDrive/resized_images'\n",
        "os.makedirs(output_folder, exist_ok=True)\n",
        "\n",
        "# Resize images to 50%\n",
        "image_files = os.listdir(input_folder)\n",
        "count = 0\n",
        "\n",
        "for file in tqdm(image_files):\n",
        "    if file.lower().endswith(('.png', '.jpg', '.jpeg')):\n",
        "        img_path = os.path.join(input_folder, file)\n",
        "        img = cv2.imread(img_path)\n",
        "\n",
        "        # Resize to 50%\n",
        "        resized_img = cv2.resize(img, (img.shape[1] // 2, img.shape[0] // 2))\n",
        "        output_path = os.path.join(output_folder, file)\n",
        "        cv2.imwrite(output_path, resized_img)\n",
        "\n",
        "        count += 1\n",
        "        if count >= 100:\n",
        "            break\n",
        "\n",
        "print(f\"\\nResized {count} images to 50% and saved in '{output_folder}'\")\n"
      ]
    }
  ]
}