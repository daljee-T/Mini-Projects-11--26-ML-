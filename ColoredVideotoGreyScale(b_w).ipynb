{
  "nbformat": 4,
  "nbformat_minor": 0,
  "metadata": {
    "colab": {
      "provenance": [],
      "authorship_tag": "ABX9TyMMseF1zG8hnC/k6MyL1u8W",
      "include_colab_link": true
    },
    "kernelspec": {
      "name": "python3",
      "display_name": "Python 3"
    },
    "language_info": {
      "name": "python"
    }
  },
  "cells": [
    {
      "cell_type": "markdown",
      "metadata": {
        "id": "view-in-github",
        "colab_type": "text"
      },
      "source": [
        "<a href=\"https://colab.research.google.com/github/daljee-T/Mini-Projects-11--26-ML-/blob/main/ColoredVideotoGreyScale(b_w).ipynb\" target=\"_parent\"><img src=\"https://colab.research.google.com/assets/colab-badge.svg\" alt=\"Open In Colab\"/></a>"
      ]
    },
    {
      "cell_type": "code",
      "execution_count": 2,
      "metadata": {
        "colab": {
          "base_uri": "https://localhost:8080/"
        },
        "id": "5Tir4Nc3V6-H",
        "outputId": "5f2769ac-4616-44d8-f350-b05c3daf85ea"
      },
      "outputs": [
        {
          "output_type": "stream",
          "name": "stdout",
          "text": [
            "Drive already mounted at /content/drive; to attempt to forcibly remount, call drive.mount(\"/content/drive\", force_remount=True).\n",
            "Colored video converted to grayscale and saved to: /content/drive/MyDrive/output_grayscale_video.mp4\n"
          ]
        }
      ],
      "source": [
        "import cv2\n",
        "from google.colab import drive\n",
        "import os\n",
        "\n",
        "# Mount Google Drive\n",
        "drive.mount('/content/drive')\n",
        "\n",
        "# Set video input and output paths\n",
        "input_video_path = '/content/drive/MyDrive/input_video.mp4'\n",
        "output_video_path = '/content/drive/MyDrive/output_grayscale_video.mp4'\n",
        "\n",
        "# Open video\n",
        "cap = cv2.VideoCapture(input_video_path)\n",
        "\n",
        "# Video properties\n",
        "fourcc = cv2.VideoWriter_fourcc(*'mp4v')\n",
        "fps = int(cap.get(cv2.CAP_PROP_FPS))\n",
        "width = int(cap.get(cv2.CAP_PROP_FRAME_WIDTH))\n",
        "height = int(cap.get(cv2.CAP_PROP_FRAME_HEIGHT))\n",
        "\n",
        "# Output video writer (gray needs single channel)\n",
        "out = cv2.VideoWriter(output_video_path, fourcc, fps, (width, height), isColor=False)\n",
        "\n",
        "while cap.isOpened():\n",
        "    ret, frame = cap.read()\n",
        "    if not ret:\n",
        "        break\n",
        "    gray = cv2.cvtColor(frame, cv2.COLOR_BGR2GRAY)\n",
        "    out.write(gray)\n",
        "\n",
        "cap.release()\n",
        "out.release()\n",
        "\n",
        "print(f\"Colored video converted to grayscale and saved to: {output_video_path}\")\n"
      ]
    }
  ]
}