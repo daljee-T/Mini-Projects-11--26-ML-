{
  "nbformat": 4,
  "nbformat_minor": 0,
  "metadata": {
    "colab": {
      "provenance": [],
      "authorship_tag": "ABX9TyNZpRINgPn+FzxNdTRUikb4",
      "include_colab_link": true
    },
    "kernelspec": {
      "name": "python3",
      "display_name": "Python 3"
    },
    "language_info": {
      "name": "python"
    }
  },
  "cells": [
    {
      "cell_type": "markdown",
      "metadata": {
        "id": "view-in-github",
        "colab_type": "text"
      },
      "source": [
        "<a href=\"https://colab.research.google.com/github/daljee-T/Mini-Projects-11--26-ML-/blob/main/images_to_Grey_Scale_(b_w).ipynb\" target=\"_parent\"><img src=\"https://colab.research.google.com/assets/colab-badge.svg\" alt=\"Open In Colab\"/></a>"
      ]
    },
    {
      "cell_type": "code",
      "source": [
        "# Step 1: Install required libraries (if not already installed)\n",
        "!pip install opencv-python-headless"
      ],
      "metadata": {
        "colab": {
          "base_uri": "https://localhost:8080/"
        },
        "id": "XvDTDDhkQVq5",
        "outputId": "a8a48074-59e8-4ac5-8951-491699d4c09c"
      },
      "execution_count": 1,
      "outputs": [
        {
          "output_type": "stream",
          "name": "stdout",
          "text": [
            "Requirement already satisfied: opencv-python-headless in /usr/local/lib/python3.11/dist-packages (4.11.0.86)\n",
            "Requirement already satisfied: numpy>=1.21.2 in /usr/local/lib/python3.11/dist-packages (from opencv-python-headless) (2.0.2)\n"
          ]
        }
      ]
    },
    {
      "cell_type": "code",
      "execution_count": 3,
      "metadata": {
        "colab": {
          "base_uri": "https://localhost:8080/"
        },
        "id": "R12_a8n4QJBC",
        "outputId": "707da4b6-a61f-4e40-9a36-ad9f8af1d030"
      },
      "outputs": [
        {
          "output_type": "stream",
          "name": "stdout",
          "text": [
            "Drive already mounted at /content/drive; to attempt to forcibly remount, call drive.mount(\"/content/drive\", force_remount=True).\n"
          ]
        },
        {
          "output_type": "stream",
          "name": "stderr",
          "text": [
            " 80%|████████  | 4/5 [00:00<00:00, 28.65it/s]"
          ]
        },
        {
          "output_type": "stream",
          "name": "stdout",
          "text": [
            "\n",
            "Converted 5 images to grayscale and saved in '/content/drive/MyDrive/grayscale_images'\n"
          ]
        },
        {
          "output_type": "stream",
          "name": "stderr",
          "text": [
            "\n"
          ]
        }
      ],
      "source": [
        "# Step 2: Import necessary libraries\n",
        "import cv2\n",
        "import os\n",
        "from google.colab import drive\n",
        "from tqdm import tqdm  # for progress bar\n",
        "import shutil\n",
        "\n",
        "# Step 3: Mount Google Drive to access image folder\n",
        "drive.mount('/content/drive')\n",
        "\n",
        "# Step 4: Set paths\n",
        "input_folder = '/content/drive/MyDrive/images_folder'      # Change this to your input folder\n",
        "output_folder = '/content/drive/MyDrive/grayscale_images'  # Output folder for grayscale images\n",
        "\n",
        "# Create output folder if it doesn't exist\n",
        "os.makedirs(output_folder, exist_ok=True)\n",
        "\n",
        "# Step 5: Convert images to grayscale\n",
        "image_files = os.listdir(input_folder)\n",
        "count = 0\n",
        "\n",
        "for file in tqdm(image_files):\n",
        "    if file.lower().endswith(('.png', '.jpg', '.jpeg')):\n",
        "        img_path = os.path.join(input_folder, file)\n",
        "        img = cv2.imread(img_path)\n",
        "        gray = cv2.cvtColor(img, cv2.COLOR_BGR2GRAY)\n",
        "\n",
        "        output_path = os.path.join(output_folder, file)\n",
        "        cv2.imwrite(output_path, gray)\n",
        "\n",
        "        count += 1\n",
        "        if count >= 5:\n",
        "            break\n",
        "\n",
        "print(f\"\\nConverted {count} images to grayscale and saved in '{output_folder}'\")\n"
      ]
    }
  ]
}